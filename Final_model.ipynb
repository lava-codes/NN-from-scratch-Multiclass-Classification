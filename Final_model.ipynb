{
 "cells": [
  {
   "cell_type": "code",
   "execution_count": 1,
   "metadata": {},
   "outputs": [],
   "source": [
    "import numpy as np\n",
    "import h5py\n",
    "import os\n",
    "import matplotlib.pyplot as plt\n",
    "import pandas as pd\n",
    "import time\n",
    "# Own module\n",
    "from mlp import classification_accuracy, MLP"
   ]
  },
  {
   "cell_type": "markdown",
   "metadata": {
    "colab_type": "text",
    "id": "ZHX6H5B72iVQ"
   },
   "source": [
    "## Data Loading and cleaning"
   ]
  },
  {
   "cell_type": "code",
   "execution_count": 2,
   "metadata": {},
   "outputs": [],
   "source": [
    "with h5py.File('../Inputs/train_128.h5','r') as H:\n",
    "    data = np.copy(H['data'])\n",
    "with h5py.File('../Inputs/train_label.h5', 'r') as H:\n",
    "    label = np.copy(H['label'])\n",
    "with h5py.File('../Inputs/test_128.h5','r') as H:\n",
    "    x_test = np.copy(H['data'])"
   ]
  },
  {
   "cell_type": "markdown",
   "metadata": {},
   "source": [
    "### Shuffling"
   ]
  },
  {
   "cell_type": "code",
   "execution_count": 3,
   "metadata": {},
   "outputs": [],
   "source": [
    "def shuffle(x,y):\n",
    "        \"\"\"\n",
    "        shuffles given input and target variables of same first axis shape\n",
    "        :returns x,y: shuffled input and target\n",
    "        \"\"\"\n",
    "        idxs = list(range(x.shape[0]))\n",
    "        np.random.shuffle(idxs)\n",
    "        return x[idxs], y[idxs]"
   ]
  },
  {
   "cell_type": "code",
   "execution_count": 4,
   "metadata": {},
   "outputs": [],
   "source": [
    "x_train, y_train = shuffle(data, label)"
   ]
  },
  {
   "cell_type": "markdown",
   "metadata": {
    "colab_type": "text",
    "id": "Isi3pFSlxoC5"
   },
   "source": [
    "### Feature Engineering"
   ]
  },
  {
   "cell_type": "code",
   "execution_count": 5,
   "metadata": {
    "colab": {},
    "colab_type": "code",
    "id": "ip0BJJ9IQ8ht"
   },
   "outputs": [],
   "source": [
    "mu_train = x_train.mean()\n",
    "sigma_train = x_train.std()\n",
    "\n",
    "mu_test = x_test.mean()\n",
    "sigma_test = x_test.std()\n",
    "\n",
    "x_train = (x_train - mu_train)/sigma_train\n",
    "x_test = (x_test - mu_test)/sigma_test"
   ]
  },
  {
   "cell_type": "code",
   "execution_count": 6,
   "metadata": {
    "colab": {},
    "colab_type": "code",
    "id": "H3Pv3uLSvpcn"
   },
   "outputs": [],
   "source": [
    "def _one_hot(x, k, dtype=np.float32):\n",
    "    \"\"\"Create a one-hot encoding of x of size k.\"\"\"\n",
    "    return np.array(x[:, None] == np.arange(k), dtype)"
   ]
  },
  {
   "cell_type": "code",
   "execution_count": 7,
   "metadata": {
    "colab": {
     "base_uri": "https://localhost:8080/",
     "height": 34
    },
    "colab_type": "code",
    "id": "fmru21j9RfOA",
    "outputId": "cc8b031b-18bc-439d-e315-fd20a8269fd0"
   },
   "outputs": [],
   "source": [
    "y_train = _one_hot(y_train, 10)"
   ]
  },
  {
   "cell_type": "code",
   "execution_count": 9,
   "metadata": {},
   "outputs": [
    {
     "name": "stdout",
     "output_type": "stream",
     "text": [
      "(60000, 128) (60000, 10)\n"
     ]
    }
   ],
   "source": [
    "print(x_train.shape, y_train.shape)"
   ]
  },
  {
   "cell_type": "code",
   "execution_count": 10,
   "metadata": {},
   "outputs": [],
   "source": [
    "# Validation same for purposes testing\n",
    "x_val, y_val = x_train, y_train"
   ]
  },
  {
   "cell_type": "markdown",
   "metadata": {},
   "source": [
    "## Training the optimal model"
   ]
  },
  {
   "cell_type": "code",
   "execution_count": 11,
   "metadata": {},
   "outputs": [
    {
     "name": "stdout",
     "output_type": "stream",
     "text": [
      "end of epoch 0\n",
      "training accuracy is 0.8617\n",
      "validation accuracy is 0.8617\n",
      "training loss is 0.5067\n",
      "end of epoch 1\n",
      "training accuracy is 0.8728\n",
      "validation accuracy is 0.8728\n",
      "training loss is 0.3799\n",
      "end of epoch 2\n",
      "training accuracy is 0.8803\n",
      "validation accuracy is 0.8803\n",
      "training loss is 0.3515\n",
      "end of epoch 3\n",
      "training accuracy is 0.8859\n",
      "validation accuracy is 0.8859\n",
      "training loss is 0.3328\n",
      "end of epoch 4\n",
      "training accuracy is 0.8903\n",
      "validation accuracy is 0.8903\n",
      "training loss is 0.3187\n",
      "end of epoch 5\n",
      "training accuracy is 0.8941\n",
      "validation accuracy is 0.8941\n",
      "training loss is 0.3072\n",
      "end of epoch 6\n",
      "training accuracy is 0.8972\n",
      "validation accuracy is 0.8972\n",
      "training loss is 0.2975\n",
      "end of epoch 7\n",
      "training accuracy is 0.8998\n",
      "validation accuracy is 0.8998\n",
      "training loss is 0.2891\n",
      "end of epoch 8\n",
      "training accuracy is 0.9022\n",
      "validation accuracy is 0.9022\n",
      "training loss is 0.2816\n",
      "end of epoch 9\n",
      "training accuracy is 0.9043\n",
      "validation accuracy is 0.9043\n",
      "training loss is 0.2749\n",
      "end of epoch 10\n",
      "training accuracy is 0.9067\n",
      "validation accuracy is 0.9067\n",
      "training loss is 0.2687\n",
      "end of epoch 11\n",
      "training accuracy is 0.9085\n",
      "validation accuracy is 0.9085\n",
      "training loss is 0.2631\n",
      "end of epoch 12\n",
      "training accuracy is 0.9106\n",
      "validation accuracy is 0.9106\n",
      "training loss is 0.2578\n",
      "end of epoch 13\n",
      "training accuracy is 0.9124\n",
      "validation accuracy is 0.9124\n",
      "training loss is 0.2530\n",
      "end of epoch 14\n",
      "training accuracy is 0.9140\n",
      "validation accuracy is 0.9140\n",
      "training loss is 0.2485\n",
      "end of epoch 15\n",
      "training accuracy is 0.9153\n",
      "validation accuracy is 0.9153\n",
      "training loss is 0.2443\n",
      "end of epoch 16\n",
      "training accuracy is 0.9165\n",
      "validation accuracy is 0.9165\n",
      "training loss is 0.2403\n",
      "end of epoch 17\n",
      "training accuracy is 0.9182\n",
      "validation accuracy is 0.9182\n",
      "training loss is 0.2366\n",
      "end of epoch 18\n",
      "training accuracy is 0.9195\n",
      "validation accuracy is 0.9195\n",
      "training loss is 0.2331\n",
      "end of epoch 19\n",
      "training accuracy is 0.9204\n",
      "validation accuracy is 0.9204\n",
      "training loss is 0.2297\n"
     ]
    }
   ],
   "source": [
    "final_model = MLP(layers = [128,64,32,16,10],\n",
    "                  activation = [None,'tanh','tanh','relu','softmax'],\n",
    "                  batch_norm= [None, False, False, False, False],\n",
    "                  dropouts= [None, 0, 0, 0, 0])\n",
    "\n",
    "final_loss, final_train_acc, final_val_acc = final_model.fit(X_train= x_train, Y_train=y_train,\n",
    "                                                             X_val = x_val, Y_val = y_val,\n",
    "                                                             epochs = 20,batch_size = 128, learning_rate= 0.01,\n",
    "                                                             beta1 = 0.5, optimizer = 'adam', verbose= True)"
   ]
  },
  {
   "cell_type": "markdown",
   "metadata": {},
   "source": [
    "## Test Predictions and Exporting"
   ]
  },
  {
   "cell_type": "code",
   "execution_count": 12,
   "metadata": {},
   "outputs": [],
   "source": [
    "test_outputs = final_model.predict(x_test)\n",
    "test_labels = np.argmax(test_outputs, axis = -1)"
   ]
  },
  {
   "cell_type": "code",
   "execution_count": 13,
   "metadata": {},
   "outputs": [
    {
     "data": {
      "text/plain": [
       "<HDF5 dataset \"label\": shape (10000,), type \"<i8\">"
      ]
     },
     "execution_count": 13,
     "metadata": {},
     "output_type": "execute_result"
    }
   ],
   "source": [
    "# Export them\n",
    "export_file = h5py.File('../Output/test_labels.h5', 'w')\n",
    "export_file.create_dataset('label', data = test_labels)"
   ]
  }
 ],
 "metadata": {
  "kernelspec": {
   "display_name": "Python 3",
   "language": "python",
   "name": "python3"
  },
  "language_info": {
   "codemirror_mode": {
    "name": "ipython",
    "version": 3
   },
   "file_extension": ".py",
   "mimetype": "text/x-python",
   "name": "python",
   "nbconvert_exporter": "python",
   "pygments_lexer": "ipython3",
   "version": "3.7.5"
  }
 },
 "nbformat": 4,
 "nbformat_minor": 2
}
