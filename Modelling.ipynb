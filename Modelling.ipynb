{
 "cells": [
  {
   "cell_type": "code",
   "execution_count": 1,
   "metadata": {},
   "outputs": [],
   "source": [
    "import numpy as np\n",
    "import h5py\n",
    "import os\n",
    "import matplotlib.pyplot as plt\n",
    "import pandas as pd\n",
    "import time\n",
    "\n",
    "from mlp import classification_accuracy, MLP"
   ]
  },
  {
   "cell_type": "markdown",
   "metadata": {
    "colab_type": "text",
    "id": "ZHX6H5B72iVQ"
   },
   "source": [
    "## Data Loading and cleaning"
   ]
  },
  {
   "cell_type": "code",
   "execution_count": 2,
   "metadata": {},
   "outputs": [],
   "source": [
    "with h5py.File('../Inputs/train_128.h5','r') as H:\n",
    "    data = np.copy(H['data'])\n",
    "with h5py.File('../Inputs/train_label.h5', 'r') as H:\n",
    "    label = np.copy(H['label'])"
   ]
  },
  {
   "cell_type": "markdown",
   "metadata": {
    "colab_type": "text",
    "id": "j8AqpfClxK14"
   },
   "source": [
    "### Data Exploration"
   ]
  },
  {
   "cell_type": "code",
   "execution_count": 3,
   "metadata": {
    "colab": {},
    "colab_type": "code",
    "id": "2SJ5moNiGVky"
   },
   "outputs": [
    {
     "data": {
      "text/plain": [
       "(60000, 128)"
      ]
     },
     "execution_count": 3,
     "metadata": {},
     "output_type": "execute_result"
    }
   ],
   "source": [
    "data.shape"
   ]
  },
  {
   "cell_type": "code",
   "execution_count": 4,
   "metadata": {
    "colab": {
     "base_uri": "https://localhost:8080/",
     "height": 34
    },
    "colab_type": "code",
    "id": "ElqYaSXzwzEC",
    "outputId": "2c464389-406e-4042-eda3-d1d697367890"
   },
   "outputs": [
    {
     "name": "stdout",
     "output_type": "stream",
     "text": [
      "Set of labels are {0, 1, 2, 3, 4, 5, 6, 7, 8, 9} and shape is (60000,)\n"
     ]
    }
   ],
   "source": [
    "print('Set of labels are {} and shape is {}'.format(set(label), label.shape))"
   ]
  },
  {
   "cell_type": "code",
   "execution_count": 5,
   "metadata": {
    "colab": {
     "base_uri": "https://localhost:8080/",
     "height": 34
    },
    "colab_type": "code",
    "id": "KhkhIrebOLYo",
    "outputId": "97d9af87-6857-43ad-fbfb-716ce17ee64d"
   },
   "outputs": [
    {
     "data": {
      "text/plain": [
       "(array([], dtype=int64), array([], dtype=int64))"
      ]
     },
     "execution_count": 5,
     "metadata": {},
     "output_type": "execute_result"
    }
   ],
   "source": [
    "# Any missing values?\n",
    "np.where(np.isnan(data))"
   ]
  },
  {
   "cell_type": "code",
   "execution_count": 27,
   "metadata": {},
   "outputs": [
    {
     "data": {
      "text/plain": [
       "9    6000\n",
       "8    6000\n",
       "7    6000\n",
       "6    6000\n",
       "5    6000\n",
       "4    6000\n",
       "3    6000\n",
       "2    6000\n",
       "1    6000\n",
       "0    6000\n",
       "dtype: int64"
      ]
     },
     "execution_count": 27,
     "metadata": {},
     "output_type": "execute_result"
    }
   ],
   "source": [
    "label_series = pd.Series(label)\n",
    "label_series.value_counts()"
   ]
  },
  {
   "cell_type": "markdown",
   "metadata": {},
   "source": [
    "### Shuffling"
   ]
  },
  {
   "cell_type": "code",
   "execution_count": 6,
   "metadata": {},
   "outputs": [],
   "source": [
    "def shuffle(x,y):\n",
    "        \"\"\"\n",
    "        shuffles given input and target variables of same first axis shape\n",
    "        :returns x,y: shuffled input and target\n",
    "        \"\"\"\n",
    "        idxs = list(range(x.shape[0])) \n",
    "        np.random.shuffle(idxs)\n",
    "        return x[idxs], y[idxs]"
   ]
  },
  {
   "cell_type": "code",
   "execution_count": 7,
   "metadata": {},
   "outputs": [],
   "source": [
    "data_shuffled, label_shuffled = shuffle(data, label)"
   ]
  },
  {
   "cell_type": "markdown",
   "metadata": {},
   "source": [
    "### Split into training and validation"
   ]
  },
  {
   "cell_type": "code",
   "execution_count": 8,
   "metadata": {},
   "outputs": [],
   "source": [
    "# train\n",
    "x_train = data_shuffled[0:54000,:]\n",
    "y_train = label_shuffled[0:54000]\n",
    "# val\n",
    "x_val = data_shuffled[54000:60000,:]\n",
    "y_val = label_shuffled[54000:60000]"
   ]
  },
  {
   "cell_type": "markdown",
   "metadata": {
    "colab_type": "text",
    "id": "Isi3pFSlxoC5"
   },
   "source": [
    "### Feature Engineering"
   ]
  },
  {
   "cell_type": "code",
   "execution_count": 9,
   "metadata": {
    "colab": {},
    "colab_type": "code",
    "id": "ip0BJJ9IQ8ht"
   },
   "outputs": [],
   "source": [
    "# Optional: Standardise both train and val\n",
    "mu = x_train.mean()\n",
    "sigma = x_train.std()\n",
    "\n",
    "x_train = (x_train - mu)/sigma\n",
    "x_val = (x_val - mu)/sigma"
   ]
  },
  {
   "cell_type": "code",
   "execution_count": 10,
   "metadata": {
    "colab": {},
    "colab_type": "code",
    "id": "H3Pv3uLSvpcn"
   },
   "outputs": [],
   "source": [
    "def _one_hot(x, k, dtype=np.float32):\n",
    "    \"\"\"Create a one-hot encoding of x of size k.\"\"\"\n",
    "    return np.array(x[:, None] == np.arange(k), dtype)"
   ]
  },
  {
   "cell_type": "code",
   "execution_count": 11,
   "metadata": {
    "colab": {
     "base_uri": "https://localhost:8080/",
     "height": 34
    },
    "colab_type": "code",
    "id": "fmru21j9RfOA",
    "outputId": "cc8b031b-18bc-439d-e315-fd20a8269fd0"
   },
   "outputs": [],
   "source": [
    "y_train = _one_hot(y_train, 10)\n",
    "y_val = _one_hot(y_val, 10)"
   ]
  },
  {
   "cell_type": "code",
   "execution_count": 12,
   "metadata": {},
   "outputs": [
    {
     "name": "stdout",
     "output_type": "stream",
     "text": [
      "(54000, 128) (54000, 10)\n"
     ]
    }
   ],
   "source": [
    "print(x_train.shape, y_train.shape)"
   ]
  },
  {
   "cell_type": "markdown",
   "metadata": {},
   "source": [
    "## Modelling"
   ]
  },
  {
   "cell_type": "markdown",
   "metadata": {},
   "source": [
    "### Baseline model - Training"
   ]
  },
  {
   "cell_type": "code",
   "execution_count": 17,
   "metadata": {},
   "outputs": [],
   "source": [
    "## From mlp.py\n",
    "baseline = MLP(layers = [128,64,32,16,10],\n",
    "         activation = [None,'tanh','tanh','relu','softmax'],\n",
    "         batch_norm= [None, False, False, False, False], \n",
    "         dropouts= [None, 0, 0, 0, 0])"
   ]
  },
  {
   "cell_type": "code",
   "execution_count": 18,
   "metadata": {},
   "outputs": [
    {
     "name": "stdout",
     "output_type": "stream",
     "text": [
      "(128, 64) (64,)\n"
     ]
    }
   ],
   "source": [
    "print(baseline.layers[0].W.shape, baseline.layers[0].b.shape)"
   ]
  },
  {
   "cell_type": "code",
   "execution_count": 19,
   "metadata": {
    "scrolled": true
   },
   "outputs": [
    {
     "data": {
      "text/plain": [
       "0.1798"
      ]
     },
     "execution_count": 19,
     "metadata": {},
     "output_type": "execute_result"
    }
   ],
   "source": [
    "classification_accuracy(baseline.forward(x_train[:5000]), y_train[:5000])"
   ]
  },
  {
   "cell_type": "code",
   "execution_count": 20,
   "metadata": {
    "scrolled": true
   },
   "outputs": [
    {
     "name": "stdout",
     "output_type": "stream",
     "text": [
      "end of epoch 0\n",
      "training accuracy is 0.8303\n",
      "validation accuracy is 0.8313\n",
      "training loss is 0.7593\n",
      "end of epoch 1\n",
      "training accuracy is 0.8469\n",
      "validation accuracy is 0.8463\n",
      "training loss is 0.4796\n",
      "end of epoch 2\n",
      "training accuracy is 0.8549\n",
      "validation accuracy is 0.8527\n",
      "training loss is 0.4360\n",
      "end of epoch 3\n",
      "training accuracy is 0.8603\n",
      "validation accuracy is 0.8575\n",
      "training loss is 0.4126\n",
      "end of epoch 4\n",
      "training accuracy is 0.8649\n",
      "validation accuracy is 0.8630\n",
      "training loss is 0.3962\n",
      "end of epoch 5\n",
      "training accuracy is 0.8685\n",
      "validation accuracy is 0.8667\n",
      "training loss is 0.3831\n",
      "end of epoch 6\n",
      "training accuracy is 0.8708\n",
      "validation accuracy is 0.8703\n",
      "training loss is 0.3722\n",
      "end of epoch 7\n",
      "training accuracy is 0.8729\n",
      "validation accuracy is 0.8725\n",
      "training loss is 0.3627\n",
      "end of epoch 8\n",
      "training accuracy is 0.8756\n",
      "validation accuracy is 0.8743\n",
      "training loss is 0.3544\n",
      "end of epoch 9\n",
      "training accuracy is 0.8776\n",
      "validation accuracy is 0.8757\n",
      "training loss is 0.3470\n",
      "end of epoch 10\n",
      "training accuracy is 0.8805\n",
      "validation accuracy is 0.8785\n",
      "training loss is 0.3402\n",
      "end of epoch 11\n",
      "training accuracy is 0.8827\n",
      "validation accuracy is 0.8817\n",
      "training loss is 0.3340\n",
      "end of epoch 12\n",
      "training accuracy is 0.8845\n",
      "validation accuracy is 0.8840\n",
      "training loss is 0.3283\n",
      "end of epoch 13\n",
      "training accuracy is 0.8864\n",
      "validation accuracy is 0.8852\n",
      "training loss is 0.3230\n",
      "end of epoch 14\n",
      "training accuracy is 0.8879\n",
      "validation accuracy is 0.8862\n",
      "training loss is 0.3180\n",
      "end of epoch 15\n",
      "training accuracy is 0.8898\n",
      "validation accuracy is 0.8865\n",
      "training loss is 0.3133\n",
      "end of epoch 16\n",
      "training accuracy is 0.8914\n",
      "validation accuracy is 0.8868\n",
      "training loss is 0.3088\n",
      "end of epoch 17\n",
      "training accuracy is 0.8928\n",
      "validation accuracy is 0.8877\n",
      "training loss is 0.3046\n",
      "end of epoch 18\n",
      "training accuracy is 0.8941\n",
      "validation accuracy is 0.8878\n",
      "training loss is 0.3007\n",
      "end of epoch 19\n",
      "training accuracy is 0.8954\n",
      "validation accuracy is 0.8887\n",
      "training loss is 0.2969\n"
     ]
    }
   ],
   "source": [
    "stime = time.time()\n",
    "\n",
    "base_loss, base_train_acc, base_val_acc = baseline.fit(X_train= x_train, Y_train=y_train,\n",
    "                                                       X_val = x_val, Y_val = y_val,\n",
    "                                                       epochs = 20,batch_size = 128, learning_rate= 0.001,\n",
    "                                                       optimizer = 'adam', verbose= True)\n",
    "\n",
    "etime = time.time()"
   ]
  },
  {
   "cell_type": "code",
   "execution_count": 21,
   "metadata": {},
   "outputs": [
    {
     "data": {
      "text/plain": [
       "26.907814025878906"
      ]
     },
     "execution_count": 21,
     "metadata": {},
     "output_type": "execute_result"
    }
   ],
   "source": [
    "etime - stime"
   ]
  },
  {
   "cell_type": "markdown",
   "metadata": {},
   "source": [
    "### Loss plots"
   ]
  },
  {
   "cell_type": "code",
   "execution_count": 38,
   "metadata": {},
   "outputs": [
    {
     "data": {
      "image/png": "[encoded data removed]",
      "text/plain": [
       "<Figure size 1440x720 with 2 Axes>"
      ]
     },
     "metadata": {
      "needs_background": "light"
     },
     "output_type": "display_data"
    }
   ],
   "source": [
    "fig, ax = plt.subplots(1, 2, figsize = (20, 10))\n",
    "\n",
    "ax[0].plot(range(50), base_loss)\n",
    "ax[0].set_xlabel('epochs', size = 14)\n",
    "ax[0].set_ylabel('loss', size = 14)\n",
    "ax[0].set_title('Training loss', size = 16)\n",
    "\n",
    "ax[1].plot(range(50), base_train_acc, label = 'train acc')\n",
    "ax[1].plot(range(50), base_val_acc, label = 'validation acc')\n",
    "ax[1].set_xlabel('epochs', size = 14)\n",
    "ax[1].set_ylabel('percentage', size = 14)\n",
    "ax[1].set_title('Accuracy', size = 16)\n",
    "ax[1].legend()\n",
    "\n",
    "for a in ax:\n",
    "    a.tick_params(axis = 'both', labelsize = 15)"
   ]
  },
  {
   "cell_type": "markdown",
   "metadata": {},
   "source": [
    "### Confusion Matrix"
   ]
  },
  {
   "cell_type": "code",
   "execution_count": 39,
   "metadata": {},
   "outputs": [],
   "source": [
    "## Confusion matrix\n",
    "def generate_confusion_mat(x, y, model):\n",
    "    predictions_dict = {}\n",
    "    labels_dict = {i: np.where(y[:, i] == 1)[0] for i in range(10)}\n",
    "    for i in range(10):\n",
    "        logits = model.forward(x[labels_dict[i]])\n",
    "        predictions_dict[i] = np.argmax(logits, axis = 1)\n",
    "        # One hot encode labels\n",
    "        predictions_dict[i] = _one_hot(predictions_dict[i], 10)\n",
    "        #print(predictions_dict[i].shape)\n",
    "        predictions_dict[i] = np.sum(predictions_dict[i], axis = 0).astype(int)\n",
    "        \n",
    "    return predictions_dict"
   ]
  },
  {
   "cell_type": "code",
   "execution_count": 40,
   "metadata": {},
   "outputs": [],
   "source": [
    "confusion_dict = generate_confusion_mat(x_train, y_train, baseline)"
   ]
  },
  {
   "cell_type": "code",
   "execution_count": 41,
   "metadata": {},
   "outputs": [
    {
     "data": {
      "text/html": [
       "<div>\n",
       "<style scoped>\n",
       "    .dataframe tbody tr th:only-of-type {\n",
       "        vertical-align: middle;\n",
       "    }\n",
       "\n",
       "    .dataframe tbody tr th {\n",
       "        vertical-align: top;\n",
       "    }\n",
       "\n",
       "    .dataframe thead th {\n",
       "        text-align: right;\n",
       "    }\n",
       "</style>\n",
       "<table border=\"1\" class=\"dataframe\">\n",
       "  <thead>\n",
       "    <tr style=\"text-align: right;\">\n",
       "      <th>actual</th>\n",
       "      <th>0</th>\n",
       "      <th>1</th>\n",
       "      <th>2</th>\n",
       "      <th>3</th>\n",
       "      <th>4</th>\n",
       "      <th>5</th>\n",
       "      <th>6</th>\n",
       "      <th>7</th>\n",
       "      <th>8</th>\n",
       "      <th>9</th>\n",
       "    </tr>\n",
       "    <tr>\n",
       "      <th>predicted</th>\n",
       "      <th></th>\n",
       "      <th></th>\n",
       "      <th></th>\n",
       "      <th></th>\n",
       "      <th></th>\n",
       "      <th></th>\n",
       "      <th></th>\n",
       "      <th></th>\n",
       "      <th></th>\n",
       "      <th></th>\n",
       "    </tr>\n",
       "  </thead>\n",
       "  <tbody>\n",
       "    <tr>\n",
       "      <th>0</th>\n",
       "      <td>4731</td>\n",
       "      <td>7</td>\n",
       "      <td>58</td>\n",
       "      <td>77</td>\n",
       "      <td>9</td>\n",
       "      <td>0</td>\n",
       "      <td>582</td>\n",
       "      <td>0</td>\n",
       "      <td>15</td>\n",
       "      <td>1</td>\n",
       "    </tr>\n",
       "    <tr>\n",
       "      <th>1</th>\n",
       "      <td>5</td>\n",
       "      <td>5370</td>\n",
       "      <td>1</td>\n",
       "      <td>30</td>\n",
       "      <td>4</td>\n",
       "      <td>1</td>\n",
       "      <td>8</td>\n",
       "      <td>0</td>\n",
       "      <td>1</td>\n",
       "      <td>0</td>\n",
       "    </tr>\n",
       "    <tr>\n",
       "      <th>2</th>\n",
       "      <td>87</td>\n",
       "      <td>4</td>\n",
       "      <td>4640</td>\n",
       "      <td>26</td>\n",
       "      <td>266</td>\n",
       "      <td>1</td>\n",
       "      <td>335</td>\n",
       "      <td>0</td>\n",
       "      <td>14</td>\n",
       "      <td>0</td>\n",
       "    </tr>\n",
       "    <tr>\n",
       "      <th>3</th>\n",
       "      <td>95</td>\n",
       "      <td>47</td>\n",
       "      <td>35</td>\n",
       "      <td>5043</td>\n",
       "      <td>112</td>\n",
       "      <td>1</td>\n",
       "      <td>81</td>\n",
       "      <td>0</td>\n",
       "      <td>14</td>\n",
       "      <td>0</td>\n",
       "    </tr>\n",
       "    <tr>\n",
       "      <th>4</th>\n",
       "      <td>10</td>\n",
       "      <td>4</td>\n",
       "      <td>377</td>\n",
       "      <td>147</td>\n",
       "      <td>4793</td>\n",
       "      <td>0</td>\n",
       "      <td>264</td>\n",
       "      <td>0</td>\n",
       "      <td>13</td>\n",
       "      <td>0</td>\n",
       "    </tr>\n",
       "    <tr>\n",
       "      <th>5</th>\n",
       "      <td>1</td>\n",
       "      <td>0</td>\n",
       "      <td>2</td>\n",
       "      <td>1</td>\n",
       "      <td>0</td>\n",
       "      <td>5312</td>\n",
       "      <td>0</td>\n",
       "      <td>21</td>\n",
       "      <td>2</td>\n",
       "      <td>16</td>\n",
       "    </tr>\n",
       "    <tr>\n",
       "      <th>6</th>\n",
       "      <td>455</td>\n",
       "      <td>7</td>\n",
       "      <td>305</td>\n",
       "      <td>62</td>\n",
       "      <td>206</td>\n",
       "      <td>2</td>\n",
       "      <td>4088</td>\n",
       "      <td>0</td>\n",
       "      <td>27</td>\n",
       "      <td>0</td>\n",
       "    </tr>\n",
       "    <tr>\n",
       "      <th>7</th>\n",
       "      <td>0</td>\n",
       "      <td>0</td>\n",
       "      <td>0</td>\n",
       "      <td>0</td>\n",
       "      <td>0</td>\n",
       "      <td>60</td>\n",
       "      <td>0</td>\n",
       "      <td>5273</td>\n",
       "      <td>5</td>\n",
       "      <td>123</td>\n",
       "    </tr>\n",
       "    <tr>\n",
       "      <th>8</th>\n",
       "      <td>28</td>\n",
       "      <td>2</td>\n",
       "      <td>16</td>\n",
       "      <td>10</td>\n",
       "      <td>8</td>\n",
       "      <td>3</td>\n",
       "      <td>37</td>\n",
       "      <td>4</td>\n",
       "      <td>5260</td>\n",
       "      <td>1</td>\n",
       "    </tr>\n",
       "    <tr>\n",
       "      <th>9</th>\n",
       "      <td>1</td>\n",
       "      <td>0</td>\n",
       "      <td>0</td>\n",
       "      <td>1</td>\n",
       "      <td>0</td>\n",
       "      <td>9</td>\n",
       "      <td>1</td>\n",
       "      <td>88</td>\n",
       "      <td>0</td>\n",
       "      <td>5254</td>\n",
       "    </tr>\n",
       "  </tbody>\n",
       "</table>\n",
       "</div>"
      ],
      "text/plain": [
       "actual        0     1     2     3     4     5     6     7     8     9\n",
       "predicted                                                            \n",
       "0          4731     7    58    77     9     0   582     0    15     1\n",
       "1             5  5370     1    30     4     1     8     0     1     0\n",
       "2            87     4  4640    26   266     1   335     0    14     0\n",
       "3            95    47    35  5043   112     1    81     0    14     0\n",
       "4            10     4   377   147  4793     0   264     0    13     0\n",
       "5             1     0     2     1     0  5312     0    21     2    16\n",
       "6           455     7   305    62   206     2  4088     0    27     0\n",
       "7             0     0     0     0     0    60     0  5273     5   123\n",
       "8            28     2    16    10     8     3    37     4  5260     1\n",
       "9             1     0     0     1     0     9     1    88     0  5254"
      ]
     },
     "execution_count": 41,
     "metadata": {},
     "output_type": "execute_result"
    }
   ],
   "source": [
    "confusion_matrix = pd.DataFrame(confusion_dict)\n",
    "confusion_matrix.rename_axis('predicted', axis = 0, inplace = True)\n",
    "confusion_matrix.rename_axis('actual', axis = 1, inplace = True)\n",
    "confusion_matrix"
   ]
  },
  {
   "cell_type": "code",
   "execution_count": 42,
   "metadata": {},
   "outputs": [
    {
     "data": {
      "text/html": [
       "<div>\n",
       "<style scoped>\n",
       "    .dataframe tbody tr th:only-of-type {\n",
       "        vertical-align: middle;\n",
       "    }\n",
       "\n",
       "    .dataframe tbody tr th {\n",
       "        vertical-align: top;\n",
       "    }\n",
       "\n",
       "    .dataframe thead th {\n",
       "        text-align: right;\n",
       "    }\n",
       "</style>\n",
       "<table border=\"1\" class=\"dataframe\">\n",
       "  <thead>\n",
       "    <tr style=\"text-align: right;\">\n",
       "      <th></th>\n",
       "      <th>precision</th>\n",
       "      <th>recall</th>\n",
       "      <th>f1_score</th>\n",
       "      <th>support</th>\n",
       "    </tr>\n",
       "  </thead>\n",
       "  <tbody>\n",
       "    <tr>\n",
       "      <th>0</th>\n",
       "      <td>0.8740</td>\n",
       "      <td>0.8633</td>\n",
       "      <td>0.8686</td>\n",
       "      <td>5413</td>\n",
       "    </tr>\n",
       "    <tr>\n",
       "      <th>1</th>\n",
       "      <td>0.9870</td>\n",
       "      <td>0.9908</td>\n",
       "      <td>0.9889</td>\n",
       "      <td>5441</td>\n",
       "    </tr>\n",
       "    <tr>\n",
       "      <th>2</th>\n",
       "      <td>0.8539</td>\n",
       "      <td>0.8636</td>\n",
       "      <td>0.8587</td>\n",
       "      <td>5434</td>\n",
       "    </tr>\n",
       "    <tr>\n",
       "      <th>3</th>\n",
       "      <td>0.9344</td>\n",
       "      <td>0.9291</td>\n",
       "      <td>0.9317</td>\n",
       "      <td>5397</td>\n",
       "    </tr>\n",
       "    <tr>\n",
       "      <th>4</th>\n",
       "      <td>0.8879</td>\n",
       "      <td>0.8547</td>\n",
       "      <td>0.8710</td>\n",
       "      <td>5398</td>\n",
       "    </tr>\n",
       "    <tr>\n",
       "      <th>5</th>\n",
       "      <td>0.9857</td>\n",
       "      <td>0.9920</td>\n",
       "      <td>0.9888</td>\n",
       "      <td>5389</td>\n",
       "    </tr>\n",
       "    <tr>\n",
       "      <th>6</th>\n",
       "      <td>0.7576</td>\n",
       "      <td>0.7935</td>\n",
       "      <td>0.7751</td>\n",
       "      <td>5396</td>\n",
       "    </tr>\n",
       "    <tr>\n",
       "      <th>7</th>\n",
       "      <td>0.9790</td>\n",
       "      <td>0.9656</td>\n",
       "      <td>0.9723</td>\n",
       "      <td>5386</td>\n",
       "    </tr>\n",
       "    <tr>\n",
       "      <th>8</th>\n",
       "      <td>0.9830</td>\n",
       "      <td>0.9797</td>\n",
       "      <td>0.9813</td>\n",
       "      <td>5351</td>\n",
       "    </tr>\n",
       "    <tr>\n",
       "      <th>9</th>\n",
       "      <td>0.9739</td>\n",
       "      <td>0.9813</td>\n",
       "      <td>0.9776</td>\n",
       "      <td>5395</td>\n",
       "    </tr>\n",
       "  </tbody>\n",
       "</table>\n",
       "</div>"
      ],
      "text/plain": [
       "   precision  recall  f1_score  support\n",
       "0     0.8740  0.8633    0.8686     5413\n",
       "1     0.9870  0.9908    0.9889     5441\n",
       "2     0.8539  0.8636    0.8587     5434\n",
       "3     0.9344  0.9291    0.9317     5397\n",
       "4     0.8879  0.8547    0.8710     5398\n",
       "5     0.9857  0.9920    0.9888     5389\n",
       "6     0.7576  0.7935    0.7751     5396\n",
       "7     0.9790  0.9656    0.9723     5386\n",
       "8     0.9830  0.9797    0.9813     5351\n",
       "9     0.9739  0.9813    0.9776     5395"
      ]
     },
     "execution_count": 42,
     "metadata": {},
     "output_type": "execute_result"
    }
   ],
   "source": [
    "precision = confusion_matrix.apply(lambda x: x[x.name]/np.sum(x))\n",
    "recall = confusion_matrix.apply(lambda x: x[x.name]/np.sum(x), axis = 1)\n",
    "f1_score = (2*precision*recall)/(precision + recall)\n",
    "support = confusion_matrix.apply(lambda x: np.sum(x), axis = 0)\n",
    "\n",
    "classification_report = pd.concat([precision, recall, f1_score, support], axis = 1)\n",
    "classification_report.columns = ['precision', 'recall','f1_score','support']\n",
    "classification_report.round(4)"
   ]
  },
  {
   "cell_type": "markdown",
   "metadata": {},
   "source": [
    "## Hparam Tuning"
   ]
  },
  {
   "cell_type": "markdown",
   "metadata": {},
   "source": [
    "### Dropout"
   ]
  },
  {
   "cell_type": "code",
   "execution_count": 60,
   "metadata": {},
   "outputs": [
    {
     "name": "stdout",
     "output_type": "stream",
     "text": [
      "0.01\n",
      "0.06444444444444444\n",
      "0.11888888888888888\n",
      "0.17333333333333334\n",
      "0.22777777777777777\n",
      "0.2822222222222222\n",
      "0.33666666666666667\n",
      "0.3911111111111111\n",
      "0.44555555555555554\n",
      "0.5\n"
     ]
    }
   ],
   "source": [
    "dropout_percs = np.linspace(0.01, 0.5, 10)\n",
    "dropout_record = []\n",
    "dropout_time = []\n",
    "dropout_epochs = []\n",
    "\n",
    "# Dropout in first 2 layers\n",
    "for i in dropout_percs:\n",
    "    print(i)\n",
    "    dropouts_list = [None, 0, 0, 0, 0]\n",
    "    dropouts_list[1] = i\n",
    "    dropouts_list[2] = i\n",
    "    \n",
    "    nn = MLP(layers = [128,64,32,16,10],\n",
    "             activation = [None,'tanh','tanh','relu','softmax'],\n",
    "             batch_norm= [None, False, False, False, False],\n",
    "             dropouts= dropouts_list)\n",
    "    \n",
    "    start = time.time()\n",
    "    losses, train_acc, val_acc = nn.fit(X_train= x_train, Y_train=y_train, \n",
    "                                        X_val = x_val, Y_val = y_val, \n",
    "                                        epochs = 20,batch_size = 128,learning_rate= 0.01,\n",
    "                                        optimizer = 'adam', verbose= False)\n",
    "    \n",
    "    end = time.time()\n",
    "    dropout_time.append(end - start)\n",
    "    dropout_record.append(val_acc[-1])\n",
    "    dropout_epochs.append(len(val_acc))"
   ]
  },
  {
   "cell_type": "code",
   "execution_count": 63,
   "metadata": {},
   "outputs": [
    {
     "data": {
      "text/html": [
       "<div>\n",
       "<style scoped>\n",
       "    .dataframe tbody tr th:only-of-type {\n",
       "        vertical-align: middle;\n",
       "    }\n",
       "\n",
       "    .dataframe tbody tr th {\n",
       "        vertical-align: top;\n",
       "    }\n",
       "\n",
       "    .dataframe thead th {\n",
       "        text-align: right;\n",
       "    }\n",
       "</style>\n",
       "<table border=\"1\" class=\"dataframe\">\n",
       "  <thead>\n",
       "    <tr style=\"text-align: right;\">\n",
       "      <th></th>\n",
       "      <th>Dropout</th>\n",
       "      <th>Val accuracy</th>\n",
       "      <th>time (s)</th>\n",
       "      <th>optimal epochs</th>\n",
       "    </tr>\n",
       "  </thead>\n",
       "  <tbody>\n",
       "    <tr>\n",
       "      <th>7</th>\n",
       "      <td>0.3911</td>\n",
       "      <td>0.8777</td>\n",
       "      <td>34.4246</td>\n",
       "      <td>20</td>\n",
       "    </tr>\n",
       "    <tr>\n",
       "      <th>3</th>\n",
       "      <td>0.1733</td>\n",
       "      <td>0.8768</td>\n",
       "      <td>33.3630</td>\n",
       "      <td>20</td>\n",
       "    </tr>\n",
       "    <tr>\n",
       "      <th>6</th>\n",
       "      <td>0.3367</td>\n",
       "      <td>0.8758</td>\n",
       "      <td>32.2731</td>\n",
       "      <td>20</td>\n",
       "    </tr>\n",
       "    <tr>\n",
       "      <th>0</th>\n",
       "      <td>0.0100</td>\n",
       "      <td>0.8732</td>\n",
       "      <td>28.4298</td>\n",
       "      <td>20</td>\n",
       "    </tr>\n",
       "    <tr>\n",
       "      <th>4</th>\n",
       "      <td>0.2278</td>\n",
       "      <td>0.8725</td>\n",
       "      <td>29.9957</td>\n",
       "      <td>20</td>\n",
       "    </tr>\n",
       "    <tr>\n",
       "      <th>5</th>\n",
       "      <td>0.2822</td>\n",
       "      <td>0.8722</td>\n",
       "      <td>29.1063</td>\n",
       "      <td>20</td>\n",
       "    </tr>\n",
       "    <tr>\n",
       "      <th>1</th>\n",
       "      <td>0.0644</td>\n",
       "      <td>0.8718</td>\n",
       "      <td>32.7733</td>\n",
       "      <td>20</td>\n",
       "    </tr>\n",
       "    <tr>\n",
       "      <th>9</th>\n",
       "      <td>0.5000</td>\n",
       "      <td>0.8718</td>\n",
       "      <td>32.1479</td>\n",
       "      <td>20</td>\n",
       "    </tr>\n",
       "    <tr>\n",
       "      <th>2</th>\n",
       "      <td>0.1189</td>\n",
       "      <td>0.8713</td>\n",
       "      <td>33.6318</td>\n",
       "      <td>20</td>\n",
       "    </tr>\n",
       "    <tr>\n",
       "      <th>8</th>\n",
       "      <td>0.4456</td>\n",
       "      <td>0.8700</td>\n",
       "      <td>34.4588</td>\n",
       "      <td>20</td>\n",
       "    </tr>\n",
       "  </tbody>\n",
       "</table>\n",
       "</div>"
      ],
      "text/plain": [
       "   Dropout  Val accuracy  time (s)  optimal epochs\n",
       "7   0.3911        0.8777   34.4246              20\n",
       "3   0.1733        0.8768   33.3630              20\n",
       "6   0.3367        0.8758   32.2731              20\n",
       "0   0.0100        0.8732   28.4298              20\n",
       "4   0.2278        0.8725   29.9957              20\n",
       "5   0.2822        0.8722   29.1063              20\n",
       "1   0.0644        0.8718   32.7733              20\n",
       "9   0.5000        0.8718   32.1479              20\n",
       "2   0.1189        0.8713   33.6318              20\n",
       "8   0.4456        0.8700   34.4588              20"
      ]
     },
     "execution_count": 63,
     "metadata": {},
     "output_type": "execute_result"
    }
   ],
   "source": [
    "dropout_df = pd.DataFrame({'Dropout': dropout_percs, 'Val accuracy': dropout_record,\n",
    "                           'time (s)': dropout_time,'optimal epochs': dropout_epochs})\n",
    "\n",
    "dropout_df.sort_values('Val accuracy', ascending = False).round(4)"
   ]
  },
  {
   "cell_type": "markdown",
   "metadata": {},
   "source": [
    "### Beta1 (Adam)"
   ]
  },
  {
   "cell_type": "code",
   "execution_count": 64,
   "metadata": {},
   "outputs": [
    {
     "name": "stdout",
     "output_type": "stream",
     "text": [
      "0.5\n",
      "0.5444444444444444\n",
      "0.5888888888888889\n",
      "0.6333333333333333\n",
      "0.6777777777777778\n",
      "0.7222222222222222\n",
      "0.7666666666666666\n",
      "0.8111111111111111\n",
      "0.8555555555555556\n",
      "0.9\n"
     ]
    }
   ],
   "source": [
    "beta1_list = np.linspace(0.5, 0.9, 10)\n",
    "beta1_record = []\n",
    "beta1_time = []\n",
    "beta1_epochs = []\n",
    "\n",
    "for b in beta1_list:\n",
    "    print(b)\n",
    "    nn = MLP(layers = [128,64,32,16,10],\n",
    "             activation = [None,'tanh','tanh','relu','softmax'],\n",
    "             batch_norm= [None, False, False, False, False],\n",
    "             dropouts= [None, 0, 0, 0, 0])\n",
    "    start = time.time()\n",
    "    losses, train_acc, val_acc = nn.fit(X_train= x_train, Y_train=y_train, \n",
    "                                        X_val = x_val, Y_val = y_val, \n",
    "                                        epochs = 20,batch_size = 128, learning_rate= 0.01,\n",
    "                                        beta1 = b,\n",
    "                                        optimizer = 'adam', verbose= False)\n",
    "    \n",
    "    end = time.time()\n",
    "    beta1_time.append(end - start)\n",
    "    beta1_record.append(val_acc[-1])\n",
    "    beta1_epochs.append(len(val_acc))"
   ]
  },
  {
   "cell_type": "code",
   "execution_count": 66,
   "metadata": {},
   "outputs": [
    {
     "data": {
      "text/html": [
       "<div>\n",
       "<style scoped>\n",
       "    .dataframe tbody tr th:only-of-type {\n",
       "        vertical-align: middle;\n",
       "    }\n",
       "\n",
       "    .dataframe tbody tr th {\n",
       "        vertical-align: top;\n",
       "    }\n",
       "\n",
       "    .dataframe thead th {\n",
       "        text-align: right;\n",
       "    }\n",
       "</style>\n",
       "<table border=\"1\" class=\"dataframe\">\n",
       "  <thead>\n",
       "    <tr style=\"text-align: right;\">\n",
       "      <th></th>\n",
       "      <th>betas</th>\n",
       "      <th>Val accuracy</th>\n",
       "      <th>time (s)</th>\n",
       "      <th>optimal epochs</th>\n",
       "    </tr>\n",
       "  </thead>\n",
       "  <tbody>\n",
       "    <tr>\n",
       "      <th>0</th>\n",
       "      <td>0.5000</td>\n",
       "      <td>0.8910</td>\n",
       "      <td>36.4605</td>\n",
       "      <td>20</td>\n",
       "    </tr>\n",
       "    <tr>\n",
       "      <th>2</th>\n",
       "      <td>0.5889</td>\n",
       "      <td>0.8870</td>\n",
       "      <td>36.1799</td>\n",
       "      <td>20</td>\n",
       "    </tr>\n",
       "    <tr>\n",
       "      <th>4</th>\n",
       "      <td>0.6778</td>\n",
       "      <td>0.8867</td>\n",
       "      <td>32.3825</td>\n",
       "      <td>20</td>\n",
       "    </tr>\n",
       "    <tr>\n",
       "      <th>1</th>\n",
       "      <td>0.5444</td>\n",
       "      <td>0.8858</td>\n",
       "      <td>33.4271</td>\n",
       "      <td>20</td>\n",
       "    </tr>\n",
       "    <tr>\n",
       "      <th>3</th>\n",
       "      <td>0.6333</td>\n",
       "      <td>0.8858</td>\n",
       "      <td>34.4735</td>\n",
       "      <td>20</td>\n",
       "    </tr>\n",
       "    <tr>\n",
       "      <th>5</th>\n",
       "      <td>0.7222</td>\n",
       "      <td>0.8852</td>\n",
       "      <td>34.4209</td>\n",
       "      <td>20</td>\n",
       "    </tr>\n",
       "    <tr>\n",
       "      <th>7</th>\n",
       "      <td>0.8111</td>\n",
       "      <td>0.8840</td>\n",
       "      <td>32.3539</td>\n",
       "      <td>20</td>\n",
       "    </tr>\n",
       "    <tr>\n",
       "      <th>6</th>\n",
       "      <td>0.7667</td>\n",
       "      <td>0.8838</td>\n",
       "      <td>37.9875</td>\n",
       "      <td>20</td>\n",
       "    </tr>\n",
       "    <tr>\n",
       "      <th>8</th>\n",
       "      <td>0.8556</td>\n",
       "      <td>0.8778</td>\n",
       "      <td>33.8024</td>\n",
       "      <td>20</td>\n",
       "    </tr>\n",
       "    <tr>\n",
       "      <th>9</th>\n",
       "      <td>0.9000</td>\n",
       "      <td>0.8680</td>\n",
       "      <td>32.9444</td>\n",
       "      <td>20</td>\n",
       "    </tr>\n",
       "  </tbody>\n",
       "</table>\n",
       "</div>"
      ],
      "text/plain": [
       "    betas  Val accuracy  time (s)  optimal epochs\n",
       "0  0.5000        0.8910   36.4605              20\n",
       "2  0.5889        0.8870   36.1799              20\n",
       "4  0.6778        0.8867   32.3825              20\n",
       "1  0.5444        0.8858   33.4271              20\n",
       "3  0.6333        0.8858   34.4735              20\n",
       "5  0.7222        0.8852   34.4209              20\n",
       "7  0.8111        0.8840   32.3539              20\n",
       "6  0.7667        0.8838   37.9875              20\n",
       "8  0.8556        0.8778   33.8024              20\n",
       "9  0.9000        0.8680   32.9444              20"
      ]
     },
     "execution_count": 66,
     "metadata": {},
     "output_type": "execute_result"
    }
   ],
   "source": [
    "beta_df = pd.DataFrame({'betas': beta1_list, 'Val accuracy': beta1_record,\n",
    "                        'time (s)': beta1_time, 'optimal epochs': beta1_epochs})\n",
    "\n",
    "beta_df.sort_values('Val accuracy', ascending = False).round(4)"
   ]
  },
  {
   "cell_type": "markdown",
   "metadata": {},
   "source": [
    "### Weight Decay"
   ]
  },
  {
   "cell_type": "code",
   "execution_count": 67,
   "metadata": {},
   "outputs": [
    {
     "name": "stdout",
     "output_type": "stream",
     "text": [
      "0.0\n",
      "0.05555555555555555\n",
      "0.1111111111111111\n",
      "0.16666666666666666\n",
      "0.2222222222222222\n",
      "0.2777777777777778\n",
      "0.3333333333333333\n",
      "0.38888888888888884\n",
      "0.4444444444444444\n",
      "0.5\n"
     ]
    }
   ],
   "source": [
    "decay_list = np.linspace(0, 0.5, 10)\n",
    "decay_record = []\n",
    "decay_time = []\n",
    "decay_epochs = []\n",
    "\n",
    "for d in decay_list:\n",
    "    print(d)\n",
    "    nn = MLP(layers = [128,64,32,16,10],\n",
    "             activation = [None,'tanh','tanh','relu','softmax'],\n",
    "             batch_norm= [None, False, False, False, False],\n",
    "             dropouts= [None, 0, 0, 0, 0])\n",
    "    \n",
    "    start = time.time()\n",
    "    losses, train_acc, val_acc = nn.fit(X_train= x_train, Y_train=y_train, \n",
    "                                        X_val = x_val, Y_val = y_val, \n",
    "                                        epochs = 20,batch_size = 128, learning_rate= 0.01,\n",
    "                                        weight_decay = d,\n",
    "                                        optimizer = 'adam', verbose= False)\n",
    "    \n",
    "    end = time.time()\n",
    "    decay_time.append(end - start)\n",
    "    decay_record.append(val_acc[-1])\n",
    "    decay_epochs.append(len(val_acc))"
   ]
  },
  {
   "cell_type": "code",
   "execution_count": 69,
   "metadata": {},
   "outputs": [
    {
     "data": {
      "text/html": [
       "<div>\n",
       "<style scoped>\n",
       "    .dataframe tbody tr th:only-of-type {\n",
       "        vertical-align: middle;\n",
       "    }\n",
       "\n",
       "    .dataframe tbody tr th {\n",
       "        vertical-align: top;\n",
       "    }\n",
       "\n",
       "    .dataframe thead th {\n",
       "        text-align: right;\n",
       "    }\n",
       "</style>\n",
       "<table border=\"1\" class=\"dataframe\">\n",
       "  <thead>\n",
       "    <tr style=\"text-align: right;\">\n",
       "      <th></th>\n",
       "      <th>decays</th>\n",
       "      <th>Val accuracy</th>\n",
       "      <th>time (s)</th>\n",
       "      <th>optimal epochs</th>\n",
       "    </tr>\n",
       "  </thead>\n",
       "  <tbody>\n",
       "    <tr>\n",
       "      <th>0</th>\n",
       "      <td>0.0000</td>\n",
       "      <td>0.8743</td>\n",
       "      <td>30.5239</td>\n",
       "      <td>20</td>\n",
       "    </tr>\n",
       "    <tr>\n",
       "      <th>1</th>\n",
       "      <td>0.0556</td>\n",
       "      <td>0.1948</td>\n",
       "      <td>28.8135</td>\n",
       "      <td>20</td>\n",
       "    </tr>\n",
       "    <tr>\n",
       "      <th>2</th>\n",
       "      <td>0.1111</td>\n",
       "      <td>0.1007</td>\n",
       "      <td>44.4545</td>\n",
       "      <td>20</td>\n",
       "    </tr>\n",
       "    <tr>\n",
       "      <th>3</th>\n",
       "      <td>0.1667</td>\n",
       "      <td>0.1007</td>\n",
       "      <td>48.7856</td>\n",
       "      <td>20</td>\n",
       "    </tr>\n",
       "    <tr>\n",
       "      <th>4</th>\n",
       "      <td>0.2222</td>\n",
       "      <td>0.1007</td>\n",
       "      <td>43.1952</td>\n",
       "      <td>20</td>\n",
       "    </tr>\n",
       "    <tr>\n",
       "      <th>5</th>\n",
       "      <td>0.2778</td>\n",
       "      <td>0.1007</td>\n",
       "      <td>41.7992</td>\n",
       "      <td>20</td>\n",
       "    </tr>\n",
       "    <tr>\n",
       "      <th>6</th>\n",
       "      <td>0.3333</td>\n",
       "      <td>0.1007</td>\n",
       "      <td>45.3039</td>\n",
       "      <td>20</td>\n",
       "    </tr>\n",
       "    <tr>\n",
       "      <th>7</th>\n",
       "      <td>0.3889</td>\n",
       "      <td>0.1007</td>\n",
       "      <td>48.2214</td>\n",
       "      <td>20</td>\n",
       "    </tr>\n",
       "    <tr>\n",
       "      <th>8</th>\n",
       "      <td>0.4444</td>\n",
       "      <td>0.1007</td>\n",
       "      <td>49.5604</td>\n",
       "      <td>20</td>\n",
       "    </tr>\n",
       "    <tr>\n",
       "      <th>9</th>\n",
       "      <td>0.5000</td>\n",
       "      <td>0.1007</td>\n",
       "      <td>46.7139</td>\n",
       "      <td>20</td>\n",
       "    </tr>\n",
       "  </tbody>\n",
       "</table>\n",
       "</div>"
      ],
      "text/plain": [
       "   decays  Val accuracy  time (s)  optimal epochs\n",
       "0  0.0000        0.8743   30.5239              20\n",
       "1  0.0556        0.1948   28.8135              20\n",
       "2  0.1111        0.1007   44.4545              20\n",
       "3  0.1667        0.1007   48.7856              20\n",
       "4  0.2222        0.1007   43.1952              20\n",
       "5  0.2778        0.1007   41.7992              20\n",
       "6  0.3333        0.1007   45.3039              20\n",
       "7  0.3889        0.1007   48.2214              20\n",
       "8  0.4444        0.1007   49.5604              20\n",
       "9  0.5000        0.1007   46.7139              20"
      ]
     },
     "execution_count": 69,
     "metadata": {},
     "output_type": "execute_result"
    }
   ],
   "source": [
    "decay_df = pd.DataFrame({'decays': decay_list, 'Val accuracy': decay_record,\n",
    "                         'time (s)': decay_time,'optimal epochs': decay_epochs})\n",
    "\n",
    "decay_df.sort_values('Val accuracy', ascending = False).round(4)"
   ]
  },
  {
   "cell_type": "markdown",
   "metadata": {},
   "source": [
    "### Batch Size"
   ]
  },
  {
   "cell_type": "code",
   "execution_count": 29,
   "metadata": {},
   "outputs": [
    {
     "name": "stdout",
     "output_type": "stream",
     "text": [
      "24\n",
      "64\n",
      "128\n",
      "256\n",
      "512\n",
      "1024\n"
     ]
    }
   ],
   "source": [
    "batch_list = [24, 64, 128, 256, 512,1024]\n",
    "batch_record = []\n",
    "batch_time = []\n",
    "batch_epochs = []\n",
    "\n",
    "for b in batch_list:\n",
    "    print(b)\n",
    "    nn = MLP(layers = [128,64,32,16,10],\n",
    "             activation = [None,'tanh','tanh','relu','softmax'],\n",
    "             batch_norm= [None, False, False, False, False],\n",
    "             dropouts= [None, 0, 0, 0, 0])\n",
    "    \n",
    "    start = time.time()\n",
    "    losses, train_acc, val_acc = nn.fit(X_train= x_train, Y_train=y_train, \n",
    "                                        X_val = x_val, Y_val = y_val, \n",
    "                                        epochs = 20,batch_size = b, \n",
    "                                        learning_rate= 0.01,optimizer = 'adam', verbose= False)\n",
    "    \n",
    "    end = time.time()\n",
    "    batch_time.append(end - start)\n",
    "    batch_record.append(val_acc[-1])\n",
    "    batch_epochs.append(len(val_acc))"
   ]
  },
  {
   "cell_type": "code",
   "execution_count": 70,
   "metadata": {},
   "outputs": [
    {
     "data": {
      "text/html": [
       "<div>\n",
       "<style scoped>\n",
       "    .dataframe tbody tr th:only-of-type {\n",
       "        vertical-align: middle;\n",
       "    }\n",
       "\n",
       "    .dataframe tbody tr th {\n",
       "        vertical-align: top;\n",
       "    }\n",
       "\n",
       "    .dataframe thead th {\n",
       "        text-align: right;\n",
       "    }\n",
       "</style>\n",
       "<table border=\"1\" class=\"dataframe\">\n",
       "  <thead>\n",
       "    <tr style=\"text-align: right;\">\n",
       "      <th></th>\n",
       "      <th>batch_sizes</th>\n",
       "      <th>Val accuracy</th>\n",
       "      <th>time (s)</th>\n",
       "      <th>optimal epochs</th>\n",
       "    </tr>\n",
       "  </thead>\n",
       "  <tbody>\n",
       "    <tr>\n",
       "      <th>1</th>\n",
       "      <td>64</td>\n",
       "      <td>0.8757</td>\n",
       "      <td>43.2435</td>\n",
       "      <td>20</td>\n",
       "    </tr>\n",
       "    <tr>\n",
       "      <th>3</th>\n",
       "      <td>256</td>\n",
       "      <td>0.8753</td>\n",
       "      <td>29.3801</td>\n",
       "      <td>20</td>\n",
       "    </tr>\n",
       "    <tr>\n",
       "      <th>5</th>\n",
       "      <td>1024</td>\n",
       "      <td>0.8745</td>\n",
       "      <td>22.6388</td>\n",
       "      <td>20</td>\n",
       "    </tr>\n",
       "    <tr>\n",
       "      <th>4</th>\n",
       "      <td>512</td>\n",
       "      <td>0.8733</td>\n",
       "      <td>23.2913</td>\n",
       "      <td>20</td>\n",
       "    </tr>\n",
       "    <tr>\n",
       "      <th>2</th>\n",
       "      <td>128</td>\n",
       "      <td>0.8718</td>\n",
       "      <td>31.8110</td>\n",
       "      <td>20</td>\n",
       "    </tr>\n",
       "    <tr>\n",
       "      <th>0</th>\n",
       "      <td>24</td>\n",
       "      <td>0.8638</td>\n",
       "      <td>58.6757</td>\n",
       "      <td>20</td>\n",
       "    </tr>\n",
       "  </tbody>\n",
       "</table>\n",
       "</div>"
      ],
      "text/plain": [
       "   batch_sizes  Val accuracy  time (s)  optimal epochs\n",
       "1           64        0.8757   43.2435              20\n",
       "3          256        0.8753   29.3801              20\n",
       "5         1024        0.8745   22.6388              20\n",
       "4          512        0.8733   23.2913              20\n",
       "2          128        0.8718   31.8110              20\n",
       "0           24        0.8638   58.6757              20"
      ]
     },
     "execution_count": 70,
     "metadata": {},
     "output_type": "execute_result"
    }
   ],
   "source": [
    "batchsize_df = pd.DataFrame({'batch_sizes': batch_list, 'Val accuracy': batch_record,\n",
    "                             'time (s)': batch_time,'optimal epochs': batch_epochs})\n",
    "\n",
    "batchsize_df.sort_values('Val accuracy', ascending = False).round(4)"
   ]
  },
  {
   "cell_type": "markdown",
   "metadata": {},
   "source": [
    "### Batch Norm"
   ]
  },
  {
   "cell_type": "code",
   "execution_count": 71,
   "metadata": {},
   "outputs": [
    {
     "name": "stdout",
     "output_type": "stream",
     "text": [
      "True\n",
      "False\n"
     ]
    }
   ],
   "source": [
    "bn_choice = [True, False]\n",
    "bn_record = []\n",
    "bn_time = []\n",
    "bn_epochs = []\n",
    "\n",
    "for i in bn_choice:\n",
    "    print(i)\n",
    "    bn_list = [None, False, False, False, False]\n",
    "    bn_list[1] = i\n",
    "    \n",
    "    nn = MLP(layers = [128,64,32,16,10],\n",
    "             activation = [None,'tanh','tanh','relu','softmax'],\n",
    "             batch_norm= bn_list, dropouts= [None, 0, 0, 0, 0])\n",
    "    \n",
    "    start = time.time()\n",
    "    losses, train_acc, val_acc = nn.fit(X_train= x_train, Y_train=y_train, \n",
    "                                        X_val = x_val, Y_val = y_val, \n",
    "                                        epochs = 20,batch_size = 128, learning_rate= 0.01,\n",
    "                                        optimizer = 'adam', verbose= False)\n",
    "    \n",
    "    end = time.time()\n",
    "    bn_time.append(end - start)\n",
    "    bn_record.append(val_acc[-1])\n",
    "    bn_epochs.append(len(val_acc))"
   ]
  },
  {
   "cell_type": "code",
   "execution_count": 72,
   "metadata": {},
   "outputs": [
    {
     "data": {
      "text/html": [
       "<div>\n",
       "<style scoped>\n",
       "    .dataframe tbody tr th:only-of-type {\n",
       "        vertical-align: middle;\n",
       "    }\n",
       "\n",
       "    .dataframe tbody tr th {\n",
       "        vertical-align: top;\n",
       "    }\n",
       "\n",
       "    .dataframe thead th {\n",
       "        text-align: right;\n",
       "    }\n",
       "</style>\n",
       "<table border=\"1\" class=\"dataframe\">\n",
       "  <thead>\n",
       "    <tr style=\"text-align: right;\">\n",
       "      <th></th>\n",
       "      <th>BN</th>\n",
       "      <th>Val accuracy</th>\n",
       "      <th>time (s)</th>\n",
       "      <th>optimal epochs</th>\n",
       "    </tr>\n",
       "  </thead>\n",
       "  <tbody>\n",
       "    <tr>\n",
       "      <th>1</th>\n",
       "      <td>False</td>\n",
       "      <td>0.8712</td>\n",
       "      <td>27.2886</td>\n",
       "      <td>20</td>\n",
       "    </tr>\n",
       "    <tr>\n",
       "      <th>0</th>\n",
       "      <td>True</td>\n",
       "      <td>0.8647</td>\n",
       "      <td>29.7422</td>\n",
       "      <td>20</td>\n",
       "    </tr>\n",
       "  </tbody>\n",
       "</table>\n",
       "</div>"
      ],
      "text/plain": [
       "      BN  Val accuracy  time (s)  optimal epochs\n",
       "1  False        0.8712   27.2886              20\n",
       "0   True        0.8647   29.7422              20"
      ]
     },
     "execution_count": 72,
     "metadata": {},
     "output_type": "execute_result"
    }
   ],
   "source": [
    "batchnorm_df = pd.DataFrame({'BN': bn_choice, 'Val accuracy': bn_record,\n",
    "                             'time (s)': bn_time,'optimal epochs': bn_epochs})\n",
    "\n",
    "batchnorm_df.sort_values('Val accuracy', ascending = False).round(4)"
   ]
  },
  {
   "cell_type": "markdown",
   "metadata": {},
   "source": [
    "## Comparing optimal models"
   ]
  },
  {
   "cell_type": "code",
   "execution_count": 73,
   "metadata": {},
   "outputs": [],
   "source": [
    "# Dropout = 0.3911\n",
    "\n",
    "nn_1 = MLP(layers = [128,64,32,16,10],\n",
    "           activation = [None,'tanh','tanh','relu','softmax'],\n",
    "           batch_norm= [None, False, False, False, False],\n",
    "           dropouts= [None, 0.3911, 0.3911, 0,0])\n",
    "\n",
    "_, _, vacc_1 = nn_1.fit(X_train= x_train, Y_train=y_train, \n",
    "                      X_val = x_val, Y_val = y_val, \n",
    "                      epochs = 20,batch_size = 128,learning_rate= 0.01,\n",
    "                      optimizer = 'adam', verbose= False)"
   ]
  },
  {
   "cell_type": "code",
   "execution_count": 89,
   "metadata": {},
   "outputs": [],
   "source": [
    "# beta1 = 0.5\n",
    "nn_2 = MLP(layers = [128,64,32,16,10],\n",
    "           activation = [None,'tanh','tanh','relu','softmax'],\n",
    "           batch_norm= [None, False, False, False, False],\n",
    "           dropouts= [None, 0, 0, 0, 0])\n",
    "\n",
    "_, _, vacc_2 = nn_2.fit(X_train= x_train, Y_train=y_train, \n",
    "                      X_val = x_val, Y_val = y_val, \n",
    "                      epochs = 20,batch_size = 128, learning_rate= 0.01,\n",
    "                      beta1 = 0.5,\n",
    "                      optimizer = 'adam', verbose= False)"
   ]
  },
  {
   "cell_type": "code",
   "execution_count": 75,
   "metadata": {},
   "outputs": [],
   "source": [
    "# Batch size = 64\n",
    "nn_3 = MLP(layers = [128,64,32,16,10],\n",
    "           activation = [None,'tanh','tanh','relu','softmax'],\n",
    "           batch_norm= [None, False, False, False, False],\n",
    "           dropouts= [None, 0, 0, 0, 0])\n",
    "\n",
    "_, _, vacc_3 = nn_3.fit(X_train= x_train, Y_train=y_train, \n",
    "                      X_val = x_val, Y_val = y_val, \n",
    "                      epochs = 20,batch_size = 64, learning_rate= 0.01,\n",
    "                      optimizer = 'adam', verbose= False)"
   ]
  },
  {
   "cell_type": "code",
   "execution_count": 76,
   "metadata": {},
   "outputs": [],
   "source": [
    "# Batchnorm = True\n",
    "nn_4 = MLP(layers = [128,64,32,16,10],\n",
    "           activation = [None,'tanh','tanh','relu','softmax'],\n",
    "           batch_norm= [None, True, False, False, False],\n",
    "           dropouts= [None, 0, 0, 0, 0])\n",
    "\n",
    "_, _, vacc_4 = nn.fit(X_train= x_train, Y_train=y_train, \n",
    "                      X_val = x_val, Y_val = y_val, \n",
    "                      epochs = 20,batch_size = 128, learning_rate= 0.01,\n",
    "                      optimizer = 'adam', verbose= False)"
   ]
  },
  {
   "cell_type": "code",
   "execution_count": 87,
   "metadata": {},
   "outputs": [],
   "source": [
    "# Tensorflow\n",
    "nn_tf = MLP(layers = [128,32,32,16,10],\n",
    "           activation = [None,'tanh','tanh','relu','softmax'],\n",
    "           batch_norm= [None, False, False, False, False],\n",
    "           dropouts= [None, 0.015, 0, 0, 0])\n",
    "\n",
    "_, _, vacc_tf = nn.fit(X_train= x_train, Y_train=y_train, \n",
    "                      X_val = x_val, Y_val = y_val, \n",
    "                      epochs = 20,batch_size = 1024, learning_rate= 0.01,\n",
    "                      beta1 = 0.6376, optimizer = 'adam', verbose= False)"
   ]
  },
  {
   "cell_type": "code",
   "execution_count": 90,
   "metadata": {},
   "outputs": [
    {
     "data": {
      "image/png": "[encoded data removed]",
      "text/plain": [
       "<Figure size 720x720 with 1 Axes>"
      ]
     },
     "metadata": {
      "needs_background": "light"
     },
     "output_type": "display_data"
    }
   ],
   "source": [
    "plt.figure(figsize = (10, 10))\n",
    "for col, value, name in zip(['b', 'r', 'g', 'y', 'p', 'o'], \n",
    "                            [base_val_acc[:20], vacc_1, vacc_2, vacc_3, vacc_4, vacc_tf],\n",
    "                            ['baseline', 'dropout', 'beta1', 'batchsize', 'batchnorm', 'tf']):\n",
    "    \n",
    "    plt.plot(value, col, label = name)\n",
    "    plt.xlabel('epochs', size = 15)\n",
    "    plt.ylabel('validation accuracy', size = 15)\n",
    "    plt.title('Accuracy across optimal hyper-parameters', size = 16)\n",
    "    plt.tick_params(axis = 'both', labelsize = 15)\n",
    "    plt.legend()\n",
    "    plt.tight_layout()"
   ]
  },
  {
   "cell_type": "code",
   "execution_count": null,
   "metadata": {},
   "outputs": [],
   "source": []
  },
  {
   "cell_type": "markdown",
   "metadata": {},
   "source": [
    "## Spare parts"
   ]
  },
  {
   "cell_type": "markdown",
   "metadata": {},
   "source": [
    "### Learning rate"
   ]
  },
  {
   "cell_type": "code",
   "execution_count": 149,
   "metadata": {},
   "outputs": [
    {
     "data": {
      "image/png": "[encoded data removed]",
      "text/plain": [
       "<Figure size 720x2160 with 3 Axes>"
      ]
     },
     "metadata": {
      "needs_background": "light"
     },
     "output_type": "display_data"
    }
   ],
   "source": [
    "fig, ax = plt.subplots(3, 1, figsize = (10, 30))\n",
    "\n",
    "for col, optimizer in zip(['b', 'r', 'g'], ['normal', 'momentum','adam']):\n",
    "    for pattern, lr in zip(['o', '--', '+'], [0.001, 0.005, 0.01]):\n",
    "        nn = MLP(layers = [128,64,32,16,10],\n",
    "                 activation = [None,'tanh','tanh','relu','softmax'],\n",
    "                 batch_norm= [None, False, False, False, False],\n",
    "                 dropouts= [None, 0, 0, 0, 0])\n",
    "        \n",
    "        losses, train_acc, val_acc = nn.fit(X_train= x_train, Y_train=y_train,X_val = x_val, Y_val = y_val, \n",
    "                                            epochs = 10,batch_size = 128,learning_rate= lr,\n",
    "                                            optimizer = optimizer, verbose= False)\n",
    "        \n",
    "        #print(losses)\n",
    "        loss_modified = np.nan_to_num(losses, nan = -2)\n",
    "        train_acc_modified = np.nan_to_num(train_acc, nan = 0)\n",
    "        val_acc_modified = np.nan_to_num(val_acc, nan = 0)\n",
    "        \n",
    "        ax[0].plot(loss_modified, col+pattern, label = '{}_{}'.format(optimizer, lr))\n",
    "        ax[0].set_ylim(-2, 4)\n",
    "        ax[0].set_title('Loss across LR and optimizer')\n",
    "        ax[0].set_xlabel('epochs')\n",
    "        ax[0].set_ylabel('loss')\n",
    "        ax[0].legend(loc = 'lower right')\n",
    "        \n",
    "        ax[1].plot(train_acc_modified, col+pattern, label = '{}_{}'.format(optimizer, lr))\n",
    "        ax[1].set_title('Train acc across LR and optimizer')\n",
    "        ax[1].set_xlabel('epochs')\n",
    "        ax[1].set_ylabel('train accuracy')\n",
    "        ax[1].legend()\n",
    "        \n",
    "        ax[2].plot(val_acc_modified, col+pattern, label = '{}_{}'.format(optimizer, lr))\n",
    "        ax[2].set_title('Val acc across LR and optimizer')\n",
    "        ax[2].set_xlabel('epochs')\n",
    "        ax[2].set_ylabel('val accuracy')\n",
    "        ax[2].legend()\n",
    "        "
   ]
  },
  {
   "cell_type": "code",
   "execution_count": 42,
   "metadata": {},
   "outputs": [
    {
     "data": {
      "text/plain": [
       "[<matplotlib.lines.Line2D at 0x7ff0ea181810>]"
      ]
     },
     "execution_count": 42,
     "metadata": {},
     "output_type": "execute_result"
    },
    {
     "data": {
      "image/png": "[encoded data removed]",
      "text/plain": [
       "<Figure size 432x288 with 1 Axes>"
      ]
     },
     "metadata": {
      "needs_background": "light"
     },
     "output_type": "display_data"
    }
   ],
   "source": [
    "plt.plot(losses[:2]*4)\n",
    "plt.plot(losses)"
   ]
  },
  {
   "cell_type": "markdown",
   "metadata": {},
   "source": [
    "### Reg - Batch norm"
   ]
  },
  {
   "cell_type": "code",
   "execution_count": 55,
   "metadata": {},
   "outputs": [
    {
     "data": {
      "image/png": "[encoded data removed]",
      "text/plain": [
       "<Figure size 720x720 with 1 Axes>"
      ]
     },
     "metadata": {
      "needs_background": "light"
     },
     "output_type": "display_data"
    }
   ],
   "source": [
    "plt.figure(figsize= (10,10))\n",
    "for col, i in zip(['b', 'r', 'g', 'y'], range(1, 5)):\n",
    "    batch_norm_list = [None, False, False, False, False]\n",
    "    batch_norm_list[i] = True\n",
    "    \n",
    "    nn = MLP(layers = [128,64,32,16,10],\n",
    "             activation = [None,'tanh','tanh','relu','softmax'],\n",
    "             batch_norm= batch_norm_list,\n",
    "             dropouts= [None, 0, 0, 0, 0])\n",
    "    \n",
    "    losses, train_acc, val_acc = nn.fit(X_train= x_train, Y_train=y_train, \n",
    "                                        X_val = x_val, Y_val = y_val, \n",
    "                                        epochs = 5,batch_size = 128, learning_rate= 0.01,\n",
    "                                        optimizer = 'adam', verbose= False)\n",
    "    \n",
    "    plt.plot(losses, col, label = '{} batch norms'.format(i))\n",
    "    plt.xlabel('epochs')\n",
    "    plt.ylabel('loss')\n",
    "    plt.title('loss across batch norms')\n",
    "    plt.legend()"
   ]
  },
  {
   "cell_type": "markdown",
   "metadata": {},
   "source": [
    "### Weight Decay"
   ]
  },
  {
   "cell_type": "code",
   "execution_count": 109,
   "metadata": {},
   "outputs": [],
   "source": [
    "?plt.legend"
   ]
  },
  {
   "cell_type": "code",
   "execution_count": 110,
   "metadata": {},
   "outputs": [
    {
     "data": {
      "image/png": "[encoded data removed]",
      "text/plain": [
       "<Figure size 720x720 with 1 Axes>"
      ]
     },
     "metadata": {
      "needs_background": "light"
     },
     "output_type": "display_data"
    }
   ],
   "source": [
    "plt.figure(figsize= (10,10))\n",
    "\n",
    "for col, i in zip(['b', 'r', 'g', 'y'], [0.005, 0.02, 0.05, 0.1]):\n",
    "    nn = MLP(layers = [128,64,32,16,10],\n",
    "             activation = [None,'tanh','tanh','relu','softmax'],\n",
    "             batch_norm= [None, False, False, False, False],\n",
    "             dropouts= [None, 0, 0, 0, 0])\n",
    "    \n",
    "    losses, train_acc, val_acc = nn.fit(X_train= x_train, Y_train=y_train, \n",
    "                                        X_val = x_val, Y_val = y_val, \n",
    "                                        epochs = 10,batch_size = 128, learning_rate= 0.01,\n",
    "                                        weight_decay = i,\n",
    "                                        optimizer = 'adam', verbose= False)\n",
    "    \n",
    "    plt.plot(losses, col, label = '{} weight decay'.format(i))\n",
    "    plt.xlabel('epochs')\n",
    "    plt.ylabel('loss')\n",
    "    plt.title('loss across weight decay')\n",
    "    plt.legend(loc = 'upper right')"
   ]
  },
  {
   "cell_type": "markdown",
   "metadata": {},
   "source": [
    "### Dropout"
   ]
  },
  {
   "cell_type": "code",
   "execution_count": 62,
   "metadata": {},
   "outputs": [
    {
     "data": {
      "image/png": "[encoded data removed]",
      "text/plain": [
       "<Figure size 720x720 with 1 Axes>"
      ]
     },
     "metadata": {
      "needs_background": "light"
     },
     "output_type": "display_data"
    }
   ],
   "source": [
    "plt.figure(figsize= (10,10))\n",
    "for col, i in zip(['b', 'r', 'g', 'y'], [0, 0.05, 0.25, 0.5]):\n",
    "    \n",
    "    dropouts_list = [None, 0, 0, 0, 0]\n",
    "    dropouts_list[1] = i\n",
    "    dropouts_list[2] = i\n",
    "    \n",
    "    nn = MLP(layers = [128,64,32,16,10],\n",
    "             activation = [None,'tanh','tanh','relu','softmax'],\n",
    "             batch_norm= [None, False, False, False, False],\n",
    "             dropouts= dropouts_list)\n",
    "    \n",
    "    losses, train_acc, val_acc = nn.fit(X_train= x_train, Y_train=y_train, \n",
    "                                        X_val = x_val, Y_val = y_val, \n",
    "                                        epochs = 10,batch_size = 128, learning_rate= 0.01,\n",
    "                                        optimizer = 'adam', verbose= False)\n",
    "    \n",
    "    plt.plot(losses, col, label = 'dropout {} of 1st 2 hidden'.format(i))\n",
    "    plt.xlabel('epochs')\n",
    "    plt.ylabel('loss')\n",
    "    plt.title('loss across dropout')\n",
    "    plt.legend()"
   ]
  },
  {
   "cell_type": "code",
   "execution_count": 74,
   "metadata": {},
   "outputs": [
    {
     "data": {
      "text/plain": [
       "array([[0, 1, 1, 0, 0]])"
      ]
     },
     "execution_count": 74,
     "metadata": {},
     "output_type": "execute_result"
    }
   ],
   "source": [
    "np.random.binomial(1, 0.05, size = (1, 5))"
   ]
  },
  {
   "cell_type": "code",
   "execution_count": null,
   "metadata": {},
   "outputs": [],
   "source": []
  }
 ],
 "metadata": {
  "kernelspec": {
   "display_name": "Python 3",
   "language": "python",
   "name": "python3"
  },
  "language_info": {
   "codemirror_mode": {
    "name": "ipython",
    "version": 3
   },
   "file_extension": ".py",
   "mimetype": "text/x-python",
   "name": "python",
   "nbconvert_exporter": "python",
   "pygments_lexer": "ipython3",
   "version": "3.7.5"
  }
 },
 "nbformat": 4,
 "nbformat_minor": 2
}
